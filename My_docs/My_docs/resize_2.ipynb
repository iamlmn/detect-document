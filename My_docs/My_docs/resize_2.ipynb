{
 "cells": [
  {
   "cell_type": "code",
   "execution_count": 1,
   "metadata": {},
   "outputs": [
    {
     "name": "stdout",
     "output_type": "stream",
     "text": [
      "/home/prudhvi/Desktop/My_docs/IMG_20190321_015602.jpg\n",
      "(4032, 3024, 3)\n",
      "/home/prudhvi/Desktop/My_docs/IMG_20190321_015845.jpg\n",
      "(3024, 4032, 3)\n",
      "/home/prudhvi/Desktop/My_docs/IMG_20190321_015503.jpg\n",
      "(4032, 3024, 3)\n",
      "/home/prudhvi/Desktop/My_docs/IMG_20190321_015650.jpg\n",
      "(4032, 3024, 3)\n",
      "/home/prudhvi/Desktop/My_docs/IMG_20190321_015852.jpg\n",
      "(4032, 3024, 3)\n",
      "/home/prudhvi/Desktop/My_docs/IMG_20190321_015509.jpg\n",
      "(4032, 3024, 3)\n",
      "/home/prudhvi/Desktop/My_docs/IMG_20190321_015805.jpg\n",
      "(3024, 4032, 3)\n",
      "/home/prudhvi/Desktop/My_docs/IMG_20190321_015234.jpg\n",
      "(4032, 3024, 3)\n",
      "/home/prudhvi/Desktop/My_docs/IMG_20190321_015424.jpg\n",
      "(4032, 3024, 3)\n",
      "/home/prudhvi/Desktop/My_docs/IMG_20190321_015710.jpg\n",
      "(4032, 3024, 3)\n",
      "/home/prudhvi/Desktop/My_docs/IMG_20190321_015717.jpg\n",
      "(4032, 3024, 3)\n",
      "/home/prudhvi/Desktop/My_docs/IMG_20190321_015450.jpg\n",
      "(4032, 3024, 3)\n",
      "/home/prudhvi/Desktop/My_docs/IMG_20190321_015755.jpg\n",
      "(4032, 3024, 3)\n",
      "/home/prudhvi/Desktop/My_docs/IMG_20190321_015527.jpg\n",
      "(4032, 3024, 3)\n",
      "/home/prudhvi/Desktop/My_docs/IMG_20190321_015959.jpg\n",
      "(4032, 3024, 3)\n",
      "/home/prudhvi/Desktop/My_docs/IMG_20190321_021638.jpg\n",
      "(3024, 4032, 3)\n",
      "/home/prudhvi/Desktop/My_docs/IMG_20190321_021647.jpg\n",
      "(3024, 4032, 3)\n",
      "/home/prudhvi/Desktop/My_docs/IMG_20190321_015417.jpg\n",
      "(4032, 3024, 3)\n",
      "/home/prudhvi/Desktop/My_docs/IMG_20190321_015443.jpg\n",
      "(4032, 3024, 3)\n",
      "/home/prudhvi/Desktop/My_docs/IMG_20190321_015704.jpg\n",
      "(4032, 3024, 3)\n",
      "/home/prudhvi/Desktop/My_docs/IMG_20190321_015555.jpg\n",
      "(4032, 3024, 3)\n",
      "/home/prudhvi/Desktop/My_docs/IMG_20190321_015749.jpg\n",
      "(3024, 4032, 3)\n",
      "/home/prudhvi/Desktop/My_docs/IMG_20190321_015740.jpg\n",
      "(3024, 4032, 3)\n",
      "/home/prudhvi/Desktop/My_docs/IMG_20190321_015921.jpg\n",
      "(4032, 3024, 3)\n",
      "/home/prudhvi/Desktop/My_docs/IMG_20190321_015916.jpg\n",
      "(4032, 3024, 3)\n",
      "/home/prudhvi/Desktop/My_docs/IMG_20190321_015521.jpg\n",
      "(4032, 3024, 3)\n"
     ]
    }
   ],
   "source": [
    "import glob, os\n",
    "import numpy as np\n",
    "import cv2\n",
    "#os.chdir(\"/mydir\")\n",
    "for file in glob.glob(\"/home/prudhvi/Desktop/My_docs/*.jpg\"):\n",
    "    print(file)\n",
    "    image= cv2.imread(file)\n",
    "    print(image.shape)"
   ]
  },
  {
   "cell_type": "code",
   "execution_count": null,
   "metadata": {},
   "outputs": [],
   "source": []
  },
  {
   "cell_type": "code",
   "execution_count": null,
   "metadata": {},
   "outputs": [],
   "source": []
  },
  {
   "cell_type": "code",
   "execution_count": null,
   "metadata": {},
   "outputs": [],
   "source": []
  },
  {
   "cell_type": "code",
   "execution_count": null,
   "metadata": {},
   "outputs": [],
   "source": []
  },
  {
   "cell_type": "code",
   "execution_count": null,
   "metadata": {},
   "outputs": [],
   "source": []
  },
  {
   "cell_type": "code",
   "execution_count": null,
   "metadata": {},
   "outputs": [],
   "source": []
  },
  {
   "cell_type": "code",
   "execution_count": null,
   "metadata": {},
   "outputs": [],
   "source": []
  },
  {
   "cell_type": "code",
   "execution_count": null,
   "metadata": {},
   "outputs": [],
   "source": []
  },
  {
   "cell_type": "code",
   "execution_count": null,
   "metadata": {},
   "outputs": [],
   "source": []
  },
  {
   "cell_type": "code",
   "execution_count": null,
   "metadata": {},
   "outputs": [],
   "source": []
  },
  {
   "cell_type": "code",
   "execution_count": null,
   "metadata": {},
   "outputs": [],
   "source": []
  },
  {
   "cell_type": "code",
   "execution_count": null,
   "metadata": {},
   "outputs": [],
   "source": []
  },
  {
   "cell_type": "code",
   "execution_count": null,
   "metadata": {},
   "outputs": [],
   "source": []
  },
  {
   "cell_type": "code",
   "execution_count": null,
   "metadata": {},
   "outputs": [],
   "source": []
  },
  {
   "cell_type": "code",
   "execution_count": null,
   "metadata": {},
   "outputs": [],
   "source": []
  },
  {
   "cell_type": "code",
   "execution_count": null,
   "metadata": {},
   "outputs": [],
   "source": []
  },
  {
   "cell_type": "code",
   "execution_count": null,
   "metadata": {},
   "outputs": [],
   "source": []
  },
  {
   "cell_type": "code",
   "execution_count": null,
   "metadata": {},
   "outputs": [],
   "source": []
  },
  {
   "cell_type": "code",
   "execution_count": null,
   "metadata": {},
   "outputs": [],
   "source": []
  },
  {
   "cell_type": "code",
   "execution_count": null,
   "metadata": {},
   "outputs": [],
   "source": []
  },
  {
   "cell_type": "code",
   "execution_count": null,
   "metadata": {},
   "outputs": [],
   "source": []
  },
  {
   "cell_type": "code",
   "execution_count": null,
   "metadata": {},
   "outputs": [],
   "source": []
  },
  {
   "cell_type": "code",
   "execution_count": null,
   "metadata": {},
   "outputs": [],
   "source": []
  },
  {
   "cell_type": "code",
   "execution_count": null,
   "metadata": {},
   "outputs": [],
   "source": []
  },
  {
   "cell_type": "code",
   "execution_count": null,
   "metadata": {},
   "outputs": [],
   "source": []
  },
  {
   "cell_type": "code",
   "execution_count": null,
   "metadata": {},
   "outputs": [],
   "source": []
  },
  {
   "cell_type": "code",
   "execution_count": null,
   "metadata": {},
   "outputs": [],
   "source": []
  },
  {
   "cell_type": "code",
   "execution_count": null,
   "metadata": {},
   "outputs": [],
   "source": []
  },
  {
   "cell_type": "code",
   "execution_count": null,
   "metadata": {},
   "outputs": [],
   "source": []
  },
  {
   "cell_type": "code",
   "execution_count": null,
   "metadata": {},
   "outputs": [],
   "source": []
  },
  {
   "cell_type": "code",
   "execution_count": null,
   "metadata": {},
   "outputs": [],
   "source": []
  },
  {
   "cell_type": "code",
   "execution_count": null,
   "metadata": {},
   "outputs": [],
   "source": []
  },
  {
   "cell_type": "code",
   "execution_count": null,
   "metadata": {},
   "outputs": [],
   "source": []
  },
  {
   "cell_type": "code",
   "execution_count": null,
   "metadata": {},
   "outputs": [],
   "source": []
  }
 ],
 "metadata": {
  "kernelspec": {
   "display_name": "Python 3",
   "language": "python",
   "name": "python3"
  },
  "language_info": {
   "codemirror_mode": {
    "name": "ipython",
    "version": 3
   },
   "file_extension": ".py",
   "mimetype": "text/x-python",
   "name": "python",
   "nbconvert_exporter": "python",
   "pygments_lexer": "ipython3",
   "version": "3.5.2"
  }
 },
 "nbformat": 4,
 "nbformat_minor": 2
}
